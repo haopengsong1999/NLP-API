{
 "cells": [
  {
   "cell_type": "markdown",
   "id": "5b097bd9",
   "metadata": {},
   "source": [
    "# API端口setting"
   ]
  },
  {
   "cell_type": "code",
   "execution_count": null,
   "id": "7bcef333",
   "metadata": {},
   "outputs": [],
   "source": [
    "# This is a sample Python script.\n",
    "import sys\n",
    "# Press Shift+F10 to execute it or replace it with your code.\n",
    "# Press Double Shift to search everywhere for classes, files, tool windows, actions, and settings.\n",
    "# from tensorflow import keras\n",
    "from flask import Flask, request\n",
    "import jieba\n",
    "app = Flask(__name__)"
   ]
  },
  {
   "cell_type": "code",
   "execution_count": null,
   "id": "9720a1c9",
   "metadata": {},
   "outputs": [],
   "source": [
    "@app.route('/')\n",
    "def hello_world():\n",
    "    return 'Hello World!'"
   ]
  },
  {
   "cell_type": "code",
   "execution_count": null,
   "id": "e2037030",
   "metadata": {},
   "outputs": [],
   "source": [
    "@app.route('/test',methods=['POST','GET'])\n",
    "def predictText():\n",
    "    # 1 接受程序的参数  \n",
    "    content = request.form.get(\"content\")\n",
    "    content = str(content)\n",
    "\n",
    "    result =jieba.cut(content)\n",
    "    result = '/'.join(result)\n",
    "    ss = ''\n",
    "    for r in result:\n",
    "        ss += r\n",
    "\n",
    "#    result = \"来电|人|反映|：|槐荫区|发祥|一号|公馆|1|楼|（|不清楚|门牌号|）|有人|正在|装修|改造|饭店|，|每天|不到|8|点|就|开始|施工|，|声音|不仅|扰民|，|整个|楼|的|地板|与|窗子|都|在|震动|，|认为|存在|安全|隐患|，|向|彼德|物业|反映|也没有|效果|，|希望|相关|单位|帮助|协调|落实|。|请|处理|\"\n",
    "    return ss"
   ]
  },
  {
   "cell_type": "code",
   "execution_count": null,
   "id": "b27c2abf",
   "metadata": {},
   "outputs": [],
   "source": [
    "@app.route('/HotCon',methods=['POST','GET'])\n",
    "def HotCon():\n",
    "    # 1 接受程序的参数\n",
    "    content = request.args.get('content')\n",
    "    getno = request.args.get('getno')\n",
    "    starttime = request.args.get('starttime')\n",
    "    overtime = request.args.get(' overtime')\n",
    "    sign= request.args.get('sign')\n",
    "     # id|词|wtflcode|wtflname|createtime|sign   words_ids_wtfls\n",
    "    # |id|content|wtflcode|wtflname|aftercutcontent|aftercutbystopwords|createtime|sign|\n",
    "\n",
    "   # select id from  words_ids_wtfls where 词 = cotent and createtime between starttime and overtime and sign =sign\n",
    "    result = \"123|22|2123|123123|123123\"\n",
    "    return result"
   ]
  },
  {
   "cell_type": "code",
   "execution_count": null,
   "id": "489f6eaf",
   "metadata": {},
   "outputs": [],
   "source": [
    "if __name__ == '__main__':\n",
    "   app.run(host='127.0.0.1', port=5000)"
   ]
  },
  {
   "cell_type": "markdown",
   "id": "503732ef",
   "metadata": {},
   "source": [
    "# For internship and connect to PostgreSQL"
   ]
  },
  {
   "cell_type": "code",
   "execution_count": null,
   "id": "8b1cf089",
   "metadata": {},
   "outputs": [],
   "source": [
    "# This is a sample Python script.\n",
    "import sys\n",
    "# Press Shift+F10 to execute it or replace it with your code.\n",
    "# Press Double Shift to search everywhere for classes, files, tool windows, actions, and settings.\n",
    "# from tensorflow import keras\n",
    "from flask import Flask, request\n",
    "import jieba\n",
    "import psycopg2\n",
    "import pandas as pd\n",
    "import jieba.posseg as pseg\n",
    "import re\n",
    "app = Flask(__name__)\n",
    "@app.route('/HotCon',methods=['POST','GET'])\n",
    "def HotCon():\n",
    "    conn = psycopg2.connect(database=\"yw_wordservice\", user=\"postgres\",\n",
    "                        password=\"123456\", host=\"192.168.50.111\", port=\"5432\")\n",
    "#conn = podbc.connect(\"Driver={PostgreSQL};Server=,5432;Database=yw_wordservice;uid=postgres;pwd=123456\")\n",
    "    cursor = conn.cursor()\n",
    "   \n",
    "#sql=\"insert n business_info (guid,business_content_cut) VALUES('2','来电|人|反映|：|槐荫区|发祥|一号|公馆|1|楼|')\"\n",
    "    sql = \"\"\"select business_content_cut from business_info;\"\"\"\n",
    "    s=[]\n",
    "    try:\n",
    "        cursor.execute(sql)\n",
    "        records = cursor.fetchall()\n",
    "        list = []\n",
    "        r='[’!\"#$%&\\'()*+,-./:;<=>?@[\\\\]^_`{|}~\\n。！，]+'\n",
    "        \n",
    "        for row in records:\n",
    "            words =str(row).split('/')\n",
    "            \n",
    "            for w in words:\n",
    "                w=re.sub(r,'',w)\n",
    "                list.append(w)    \n",
    "\n",
    "        dict = {}\n",
    "        for key in list:    \n",
    "            dict[key] = dict.get(key, 0) + 1\n",
    "            \n",
    "        s=sorted(dict.items(),key=lambda item:item[1], reverse=True)\n",
    "        \n",
    "        print(s[0])\n",
    "    except (Exception, psycopg2.DatabaseError) as error:\n",
    "        print(error)          \n",
    "            \n",
    "            \n",
    "            \n",
    "    try: \n",
    "        p =str(s[0]).split('\\'')\n",
    "        print (p[1])\n",
    "        sql = \"\"\"select business_id from business_info where business_content_cut like '%%%s%%'\"\"\" %(p[1])\n",
    "        cursor.execute(sql)\n",
    "        records2 = cursor.fetchall()\n",
    "        ss=''+str(s[0])\n",
    "        for id2 in records2:\n",
    "            ss+=str(id2)\n",
    "    \n",
    "    \n",
    "    \n",
    "    except (Exception, psycopg2.DatabaseError) as error:\n",
    "        print(error)\n",
    "        \n",
    "    conn.commit()\n",
    "    print(\"ok\")\n",
    "\n",
    "    \n",
    "    conn.close()\n",
    "\n",
    "\n",
    "    return ss \n",
    "    \n",
    "if __name__ == '__main__':\n",
    "   app.run(host='127.0.0.1', port=5000)"
   ]
  }
 ],
 "metadata": {
  "kernelspec": {
   "display_name": "Python 3",
   "language": "python",
   "name": "python3"
  },
  "language_info": {
   "codemirror_mode": {
    "name": "ipython",
    "version": 3
   },
   "file_extension": ".py",
   "mimetype": "text/x-python",
   "name": "python",
   "nbconvert_exporter": "python",
   "pygments_lexer": "ipython3",
   "version": "3.8.8"
  }
 },
 "nbformat": 4,
 "nbformat_minor": 5
}
